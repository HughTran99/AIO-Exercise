{
  "nbformat": 4,
  "nbformat_minor": 0,
  "metadata": {
    "colab": {
      "provenance": []
    },
    "kernelspec": {
      "name": "python3",
      "display_name": "Python 3"
    },
    "language_info": {
      "name": "python"
    }
  },
  "cells": [
    {
      "cell_type": "code",
      "execution_count": null,
      "metadata": {
        "colab": {
          "base_uri": "https://localhost:8080/"
        },
        "id": "mRH2mLPagedS",
        "outputId": "921e6634-0220-4d6a-83e8-8f2e5e1b49f7"
      },
      "outputs": [
        {
          "output_type": "stream",
          "name": "stdout",
          "text": [
            "Downloading...\n",
            "From: https://drive.google.com/uc?id=1iA0WmVfW88HyJvTBSQDI5vesf-pgKabq\n",
            "To: /content/advertising.csv\n",
            "\r  0% 0.00/4.06k [00:00<?, ?B/s]\r100% 4.06k/4.06k [00:00<00:00, 7.42MB/s]\n"
          ]
        }
      ],
      "source": [
        "import gdown\n",
        "import pandas as pd\n",
        "import numpy as np\n",
        "\n",
        "!gdown 1iA0WmVfW88HyJvTBSQDI5vesf-pgKabq\n",
        "df = pd.read_csv('/content/advertising.csv')\n",
        "\n",
        "data = df.to_numpy()"
      ]
    },
    {
      "cell_type": "markdown",
      "source": [
        "**Câu 15**"
      ],
      "metadata": {
        "id": "0wkgDROlqfXp"
      }
    },
    {
      "cell_type": "code",
      "source": [
        "sales_col = data[:, 3]\n",
        "sales_max = np.max(sales_col)\n",
        "sales_max_index = np.argmax(sales_col)\n",
        "print(sales_max, sales_max_index)"
      ],
      "metadata": {
        "colab": {
          "base_uri": "https://localhost:8080/"
        },
        "id": "E4au5MTrhH9h",
        "outputId": "fd7a8a72-df9b-4e08-b9b8-4dfa82f70c2f"
      },
      "execution_count": null,
      "outputs": [
        {
          "output_type": "stream",
          "name": "stdout",
          "text": [
            "27.0 175\n"
          ]
        }
      ]
    },
    {
      "cell_type": "markdown",
      "source": [
        "**Câu 16**"
      ],
      "metadata": {
        "id": "9tDdstOsqjv_"
      }
    },
    {
      "cell_type": "code",
      "source": [
        "tv_col = data[:, 0]\n",
        "tv_col_mean = np.mean(tv_col)\n",
        "print(tv_col_mean)"
      ],
      "metadata": {
        "colab": {
          "base_uri": "https://localhost:8080/"
        },
        "id": "J4hU6_mfiQfh",
        "outputId": "5d944799-3fd7-43d8-8662-a170bdffb24f"
      },
      "execution_count": null,
      "outputs": [
        {
          "output_type": "stream",
          "name": "stdout",
          "text": [
            "147.0425\n"
          ]
        }
      ]
    },
    {
      "cell_type": "markdown",
      "source": [
        "**Câu 17**"
      ],
      "metadata": {
        "id": "nJSDUyY1qm_B"
      }
    },
    {
      "cell_type": "code",
      "source": [
        "sales_more20 = data[sales_col >= 20]\n",
        "print(len(sales_more20))"
      ],
      "metadata": {
        "colab": {
          "base_uri": "https://localhost:8080/"
        },
        "id": "RT-sFXf0iZ0w",
        "outputId": "c74e7b56-af7d-4a0e-8d54-e598243a7197"
      },
      "execution_count": null,
      "outputs": [
        {
          "output_type": "stream",
          "name": "stdout",
          "text": [
            "40\n"
          ]
        }
      ]
    },
    {
      "cell_type": "markdown",
      "source": [
        "**Câu 18**"
      ],
      "metadata": {
        "id": "yBz7kaoNqqy0"
      }
    },
    {
      "cell_type": "code",
      "source": [
        "col1 = data[:, 1:]\n",
        "sales_req = col1[sales_col >= 15]\n",
        "radio_mean = np.mean(sales_req[:, 0])\n",
        "print(radio_mean)"
      ],
      "metadata": {
        "colab": {
          "base_uri": "https://localhost:8080/"
        },
        "id": "YUVVL8ZqjFv4",
        "outputId": "e57380d1-b758-42f9-a80f-ee3b3387d3b8"
      },
      "execution_count": null,
      "outputs": [
        {
          "output_type": "stream",
          "name": "stdout",
          "text": [
            "26.22293577981651\n"
          ]
        }
      ]
    },
    {
      "cell_type": "markdown",
      "source": [
        "**Câu 19**"
      ],
      "metadata": {
        "id": "M2pYbBg6quhE"
      }
    },
    {
      "cell_type": "code",
      "source": [
        "col2 = data[:, 2:]\n",
        "newsp_mean = np.mean(col2[:, 0])\n",
        "newsp_req = col2[col2[:, 0] > newsp_mean]\n",
        "print(np.sum(newsp_req[:, 1]))"
      ],
      "metadata": {
        "colab": {
          "base_uri": "https://localhost:8080/"
        },
        "id": "Z2T8P58dj01g",
        "outputId": "99be114a-1894-46d3-f81d-c7d90056d0cd"
      },
      "execution_count": null,
      "outputs": [
        {
          "output_type": "stream",
          "name": "stdout",
          "text": [
            "1405.1\n"
          ]
        }
      ]
    },
    {
      "cell_type": "markdown",
      "source": [
        "**Câu 20**"
      ],
      "metadata": {
        "id": "L0rUzS8MqwTU"
      }
    },
    {
      "cell_type": "code",
      "source": [
        "sales_avg = np.mean(sales_col)\n",
        "scores = []\n",
        "for i in sales_col:\n",
        "    if i > sales_avg:\n",
        "        scores.append('Good')\n",
        "    elif i < sales_avg:\n",
        "        scores.append('Bad')\n",
        "    else:\n",
        "        scores.append('Average')\n",
        "print(scores[7:10])\n",
        "print(sales_col[7:10])\n",
        "print(sales_avg)"
      ],
      "metadata": {
        "colab": {
          "base_uri": "https://localhost:8080/"
        },
        "id": "AaEOpjUbk3n5",
        "outputId": "3ecffff1-ecf0-4eaf-f28f-87042a0b3d9d"
      },
      "execution_count": null,
      "outputs": [
        {
          "output_type": "stream",
          "name": "stdout",
          "text": [
            "['Bad', 'Bad', 'Good']\n",
            "[13.2  4.8 15.6]\n",
            "15.130500000000001\n"
          ]
        }
      ]
    },
    {
      "cell_type": "markdown",
      "source": [
        "**Câu 21**"
      ],
      "metadata": {
        "id": "AIH8EdH1qydJ"
      }
    },
    {
      "cell_type": "code",
      "source": [
        "# Find the index of the value in the \"Sales\" column closest to the mean value\n",
        "closest_value_index = np.argmin(np.abs(sales_col - sales_avg))\n",
        "closest_value = sales_col[closest_value_index]\n",
        "\n",
        "scores2= []\n",
        "for i in sales_col:\n",
        "    if i > closest_value:\n",
        "        scores2.append('Good')\n",
        "    elif i < closest_value:\n",
        "        scores2.append('Bad')\n",
        "    else:\n",
        "        scores2.append('Average')\n",
        "\n",
        "print(scores2[7:10])\n",
        "print(sales_col[7:10])\n",
        "print(closest_value)"
      ],
      "metadata": {
        "colab": {
          "base_uri": "https://localhost:8080/"
        },
        "id": "OOc6AhTJmGAJ",
        "outputId": "3bc5a1ad-8bfe-487c-8993-a32514d5869b"
      },
      "execution_count": null,
      "outputs": [
        {
          "output_type": "stream",
          "name": "stdout",
          "text": [
            "['Bad', 'Bad', 'Good']\n",
            "[13.2  4.8 15.6]\n",
            "15.2\n"
          ]
        }
      ]
    }
  ]
}