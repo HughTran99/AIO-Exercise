{
  "nbformat": 4,
  "nbformat_minor": 0,
  "metadata": {
    "colab": {
      "provenance": []
    },
    "kernelspec": {
      "name": "python3",
      "display_name": "Python 3"
    },
    "language_info": {
      "name": "python"
    }
  },
  "cells": [
    {
      "cell_type": "code",
      "execution_count": null,
      "metadata": {
        "colab": {
          "base_uri": "https://localhost:8080/"
        },
        "id": "oY0DceQ7LGHS",
        "outputId": "a28e753b-f9f4-465c-d5b0-aa2c80d49afe"
      },
      "outputs": [
        {
          "output_type": "stream",
          "name": "stdout",
          "text": [
            "Downloading...\n",
            "From: https://drive.google.com/uc?id=1i9dqan21DjQoG5Q_VEvm0LrVwAlXD0vB\n",
            "To: /content/dog.jpeg\n",
            "\r  0% 0.00/33.7k [00:00<?, ?B/s]\r100% 33.7k/33.7k [00:00<00:00, 70.3MB/s]\n"
          ]
        }
      ],
      "source": [
        "import gdown\n",
        "import numpy as np\n",
        "import matplotlib.image as mpimg\n",
        "\n",
        "# Download the image\n",
        "!gdown 1i9dqan21DjQoG5Q_VEvm0LrVwAlXD0vB\n",
        "\n",
        "# Read the image\n",
        "img = mpimg.imread('/content/dog.jpeg')"
      ]
    },
    {
      "cell_type": "code",
      "source": [
        "# Calculate lightness using the lightness method\n",
        "lightness_max = np.max(img, axis=2)\n",
        "lightness_min = np.min(img, axis=2)\n",
        "gray_img_01 = (lightness_max + lightness_min) / 2\n",
        "\n",
        "# Print the lightness value of the first pixel\n",
        "print(gray_img_01[0, 0])"
      ],
      "metadata": {
        "colab": {
          "base_uri": "https://localhost:8080/"
        },
        "id": "UjD4zpS3fPOx",
        "outputId": "b01d35ee-4bb2-46d8-ba0f-66091dd790ae"
      },
      "execution_count": null,
      "outputs": [
        {
          "output_type": "stream",
          "name": "stdout",
          "text": [
            "102.5\n"
          ]
        }
      ]
    },
    {
      "cell_type": "code",
      "source": [
        "# Calculate using the Average method\n",
        "gray_img_02 = np.mean(img, axis=2)\n",
        "\n",
        "# Print the lightness value of the first pixel\n",
        "print(gray_img_02[0, 0])"
      ],
      "metadata": {
        "colab": {
          "base_uri": "https://localhost:8080/"
        },
        "id": "nZVN3wMZeECF",
        "outputId": "c5281b51-3d40-4165-d432-c6f8e22e6093"
      },
      "execution_count": null,
      "outputs": [
        {
          "output_type": "stream",
          "name": "stdout",
          "text": [
            "107.66666666666667\n"
          ]
        }
      ]
    },
    {
      "cell_type": "code",
      "source": [
        "# Calculate using the Luminosity method\n",
        "gray_img_03 = (0.21*img[:,:,0] + 0.72*img[:,:,1] + 0.07*img[:,:,2])\n",
        "\n",
        "# Print the lightness value of the first pixel\n",
        "print(gray_img_03[0, 0])"
      ],
      "metadata": {
        "colab": {
          "base_uri": "https://localhost:8080/"
        },
        "id": "88PN_d3lfTjH",
        "outputId": "babcf95a-0468-436a-eafe-50a617ad60fd"
      },
      "execution_count": null,
      "outputs": [
        {
          "output_type": "stream",
          "name": "stdout",
          "text": [
            "126.22999999999999\n"
          ]
        }
      ]
    }
  ]
}