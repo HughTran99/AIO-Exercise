{
  "nbformat": 4,
  "nbformat_minor": 0,
  "metadata": {
    "colab": {
      "provenance": []
    },
    "kernelspec": {
      "name": "python3",
      "display_name": "Python 3"
    },
    "language_info": {
      "name": "python"
    }
  },
  "cells": [
    {
      "cell_type": "markdown",
      "source": [
        "**Create dataset**"
      ],
      "metadata": {
        "id": "saLwUkoGVU1g"
      }
    },
    {
      "cell_type": "code",
      "execution_count": null,
      "metadata": {
        "colab": {
          "base_uri": "https://localhost:8080/"
        },
        "id": "I6xeP6EF3pU_",
        "outputId": "1d98135a-639f-43f7-ddb6-588e077e8996"
      },
      "outputs": [
        {
          "output_type": "stream",
          "name": "stdout",
          "text": [
            "[['Sunny' 'Hot' 'High' 'Weak' 'no']\n",
            " ['Sunny' 'Hot' 'High' 'Strong' 'no']\n",
            " ['Overcast' 'Hot' 'High' 'Weak' 'yes']\n",
            " ['Rain' 'Mild' 'High' 'Weak' 'yes']\n",
            " ['Rain' 'Cool' 'Normal' 'Weak' 'yes']\n",
            " ['Rain' 'Cool' 'Normal' 'Strong' 'no']\n",
            " ['Overcast' 'Cool' 'Normal' 'Strong' 'yes']\n",
            " ['Overcast' 'Mild' 'High' 'Weak' 'no']\n",
            " ['Sunny' 'Cool' 'Normal' 'Weak' 'yes']\n",
            " ['Rain' 'Mild' 'Normal' 'Weak' 'yes']]\n"
          ]
        }
      ],
      "source": [
        "import numpy as np\n",
        "\n",
        "\n",
        "# Create data\n",
        "def create_train_data():\n",
        "    data = [\n",
        "        ['Sunny', 'Hot', 'High', 'Weak', 'no'],\n",
        "        ['Sunny', 'Hot', 'High', 'Strong', 'no'],\n",
        "        ['Overcast', 'Hot', 'High', 'Weak', 'yes'],\n",
        "        ['Rain', 'Mild', 'High', 'Weak', 'yes'],\n",
        "        ['Rain', 'Cool', 'Normal', 'Weak', 'yes'],\n",
        "        ['Rain', 'Cool', 'Normal', 'Strong', 'no'],\n",
        "        ['Overcast', 'Cool', 'Normal', 'Strong', 'yes'],\n",
        "        ['Overcast', 'Mild', 'High', 'Weak', 'no'],\n",
        "        ['Sunny', 'Cool', 'Normal', 'Weak', 'yes'],\n",
        "        ['Rain', 'Mild', 'Normal', 'Weak', 'yes']\n",
        "    ]\n",
        "    return np.array(data)\n",
        "\n",
        "\n",
        "train_data = create_train_data()\n",
        "print(train_data)"
      ]
    },
    {
      "cell_type": "markdown",
      "source": [
        "**Compute Prior Probability**"
      ],
      "metadata": {
        "id": "BkHEFonTVYHq"
      }
    },
    {
      "cell_type": "code",
      "source": [
        "def compute_prior_probability(train_data):\n",
        "    y_unique = ['no', 'yes']\n",
        "    prior_probability = np.zeros(len(y_unique))\n",
        "    for i in range(len(y_unique)):\n",
        "        prior_probability[i] = np.sum(train_data[:, -1] == y_unique[i]) / len(train_data)\n",
        "    return prior_probability\n",
        "\n",
        "\n",
        "prior_probability = compute_prior_probability(train_data)\n",
        "print(prior_probability[0])\n",
        "print(prior_probability[1])"
      ],
      "metadata": {
        "colab": {
          "base_uri": "https://localhost:8080/"
        },
        "id": "b3qzLyHJ4-Mr",
        "outputId": "da210b38-6b51-4667-dde4-c383f06d475c"
      },
      "execution_count": null,
      "outputs": [
        {
          "output_type": "stream",
          "name": "stdout",
          "text": [
            "0.4\n",
            "0.6\n"
          ]
        }
      ]
    },
    {
      "cell_type": "markdown",
      "source": [
        "**Compute Conditional Probability**"
      ],
      "metadata": {
        "id": "eVUWcnasVexS"
      }
    },
    {
      "cell_type": "code",
      "source": [
        "def compute_conditional_probability(train_data):\n",
        "    y_unique = ['no', 'yes']\n",
        "    conditional_probability = []\n",
        "    list_x_name = []\n",
        "    for i in range(0, train_data.shape[1] - 1):\n",
        "        x_unique = np.unique(train_data[:, i])\n",
        "        list_x_name.append(x_unique)\n",
        "        x_conditional_probability = np.zeros((len(y_unique), len(x_unique)))\n",
        "        for j in range(len(y_unique)):\n",
        "            for k in range(len(x_unique)):\n",
        "                x_conditional_probability[j, k] = np.sum((train_data[:, i] == x_unique[k]) & (train_data[:, -1] == y_unique[j]))\n",
        "        conditional_probability.append(x_conditional_probability)\n",
        "    return conditional_probability, list_x_name\n",
        "\n",
        "train_data = create_train_data()\n",
        "_, list_x_name = compute_conditional_probability(train_data)\n",
        "print(\"x1 = \", list_x_name[0])\n",
        "print(\"x2 = \", list_x_name[1])\n",
        "print(\"x3 = \", list_x_name[2])\n",
        "print(\"x4 = \", list_x_name[3])"
      ],
      "metadata": {
        "colab": {
          "base_uri": "https://localhost:8080/"
        },
        "id": "OWEhgADh55l7",
        "outputId": "a7797cf5-a59f-477d-a7cb-b070fe789505"
      },
      "execution_count": null,
      "outputs": [
        {
          "output_type": "stream",
          "name": "stdout",
          "text": [
            "x1 =  ['Overcast' 'Rain' 'Sunny']\n",
            "x2 =  ['Cool' 'Hot' 'Mild']\n",
            "x3 =  ['High' 'Normal']\n",
            "x4 =  ['Strong' 'Weak']\n"
          ]
        }
      ]
    },
    {
      "cell_type": "markdown",
      "source": [
        "**Get index from value**"
      ],
      "metadata": {
        "id": "9aQFKkZdVitF"
      }
    },
    {
      "cell_type": "code",
      "source": [
        "def get_index_from_value(feature_name, list_features):\n",
        "    return np.where(np.array(list_features) == feature_name)[0][0]"
      ],
      "metadata": {
        "id": "yONzOQ768jy1"
      },
      "execution_count": null,
      "outputs": []
    },
    {
      "cell_type": "markdown",
      "source": [
        "**Câu hỏi 16:** Hãy cho biết kết quả của đoạn chương trình sau đây:"
      ],
      "metadata": {
        "id": "bjV2COzcVnmi"
      }
    },
    {
      "cell_type": "code",
      "source": [
        "train_data = create_train_data()\n",
        "_, list_x_name = compute_conditional_probability(train_data)\n",
        "outlook = list_x_name[0]\n",
        "\n",
        "i1 = get_index_from_value('Overcast', outlook)\n",
        "i2 = get_index_from_value('Rain', outlook)\n",
        "i3 = get_index_from_value('Sunny', outlook)\n",
        "\n",
        "print(i1, i2, i3)"
      ],
      "metadata": {
        "colab": {
          "base_uri": "https://localhost:8080/"
        },
        "id": "vQ5aCkVFA3xA",
        "outputId": "d5acfdcb-559d-4043-9c44-0ae63a63badb"
      },
      "execution_count": null,
      "outputs": [
        {
          "output_type": "stream",
          "name": "stdout",
          "text": [
            "0 1 2\n"
          ]
        }
      ]
    },
    {
      "cell_type": "markdown",
      "source": [
        "**Câu hỏi 17:** Hãy cho biết kết quả của đoạn chương trình sau đây:"
      ],
      "metadata": {
        "id": "_QAWm0pVVqy3"
      }
    },
    {
      "cell_type": "code",
      "source": [
        "x1 = get_index_from_value('Sunny', list_x_name[0])\n",
        "P_Outlook_Sunny_given_Yes = conditional_probability[0][1, x1] / np.sum(train_data[:, -1] == 'yes')\n",
        "P_Outlook_Sunny_given_Yes"
      ],
      "metadata": {
        "colab": {
          "base_uri": "https://localhost:8080/"
        },
        "id": "URfo4ES-FZD1",
        "outputId": "a148a88c-60ac-47d2-a82b-baf3ca8bf2e6"
      },
      "execution_count": null,
      "outputs": [
        {
          "output_type": "execute_result",
          "data": {
            "text/plain": [
              "0.16666666666666666"
            ]
          },
          "metadata": {},
          "execution_count": 11
        }
      ]
    },
    {
      "cell_type": "markdown",
      "source": [
        "**Câu hỏi 18:** Hãy cho biết kết quả của đoạn chương trình sau đây:"
      ],
      "metadata": {
        "id": "zvs6tFZxVwPr"
      }
    },
    {
      "cell_type": "code",
      "source": [
        "train_data = create_train_data()\n",
        "conditional_probability, list_x_name = compute_conditional_probability(train_data)\n",
        "# Compute P(\"Outlook\"=\"Sunny\"|\"Play Tennis\"=\"No\")\n",
        "x1 = get_index_from_value('Sunny', list_x_name[0])\n",
        "P_Outlook_Sunny_given_No = conditional_probability[0][0, x1] / np.sum(train_data[:, -1] == 'no')\n",
        "P_Outlook_Sunny_given_No"
      ],
      "metadata": {
        "colab": {
          "base_uri": "https://localhost:8080/"
        },
        "id": "DqIY1TrMBOur",
        "outputId": "f39e5504-b73b-462b-cc93-67c9679d9b2b"
      },
      "execution_count": null,
      "outputs": [
        {
          "output_type": "execute_result",
          "data": {
            "text/plain": [
              "0.5"
            ]
          },
          "metadata": {},
          "execution_count": 9
        }
      ]
    },
    {
      "cell_type": "markdown",
      "source": [
        "**Train Naive Bayes**"
      ],
      "metadata": {
        "id": "_RneVYuOX39y"
      }
    },
    {
      "cell_type": "code",
      "source": [
        "def train_naive_bayes(train_data):\n",
        "    # Step 1: Calculate Prior Probability\n",
        "    y_unique = ['no', 'yes']\n",
        "    prior_probability = compute_prior_probability(train_data)\n",
        "\n",
        "    # Step 2: Calculate Conditional Probability\n",
        "    conditional_probability, list_x_name = compute_conditional_probability(train_data)\n",
        "\n",
        "    return prior_probability, conditional_probability, list_x_name\n",
        "\n",
        "\n",
        "def prediction_play_tennis(X, list_x_name, prior_probability, conditional_probability):\n",
        "    x1 = get_index_from_value(X[0], list_x_name[0])\n",
        "    x2 = get_index_from_value(X[1], list_x_name[1])\n",
        "    x3 = get_index_from_value(X[2], list_x_name[2])\n",
        "    x4 = get_index_from_value(X[3], list_x_name[3])\n",
        "\n",
        "    p0 = 0\n",
        "    p1 = 0\n",
        "    y_unique = ['no', 'yes']\n",
        "\n",
        "    for i in range(len(y_unique)):\n",
        "        p0 += prior_probability[i] * conditional_probability[0][i, x1] * conditional_probability[1][i, x2] * conditional_probability[2][i, x3] * conditional_probability[3][i, x4]\n",
        "        p1 += prior_probability[i] * conditional_probability[0][i, x1] * conditional_probability[1][i, x2] * conditional_probability[2][i, x3] * conditional_probability[3][i, x4]\n",
        "\n",
        "    if p0 > p1:\n",
        "        y_pred = 'no'\n",
        "    else:\n",
        "        y_pred = 'yes'\n",
        "\n",
        "    return y_pred"
      ],
      "metadata": {
        "id": "YILAxPfnB5rw"
      },
      "execution_count": null,
      "outputs": []
    },
    {
      "cell_type": "markdown",
      "source": [
        "**Câu hỏi 19:** Hãy cho biết kết quả của đoạn chương trình sau đây:"
      ],
      "metadata": {
        "id": "WPqyFlZuXx-7"
      }
    },
    {
      "cell_type": "code",
      "source": [
        "X = ['Sunny', 'Cool', 'High', 'Strong']\n",
        "data = create_train_data()\n",
        "prior_probability, conditional_probability, list_x_name = train_naive_bayes(data) # Get y_unique from train_naive_bayes\n",
        "pred = prediction_play_tennis(X, list_x_name, prior_probability, conditional_probability) # Pass y_unique to prediction_play_tennis\n",
        "\n",
        "if(pred):\n",
        "    print(\"Ad should go!\")\n",
        "else:\n",
        "    print(\"Ad should not go!\")"
      ],
      "metadata": {
        "colab": {
          "base_uri": "https://localhost:8080/"
        },
        "id": "i0r7kco5HNsj",
        "outputId": "08a73524-7dba-4831-d0e8-a1ae29f8ee5a"
      },
      "execution_count": null,
      "outputs": [
        {
          "output_type": "stream",
          "name": "stdout",
          "text": [
            "Ad should go!\n"
          ]
        }
      ]
    }
  ]
}